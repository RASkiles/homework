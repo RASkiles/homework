{
 "cells": [
  {
   "cell_type": "code",
   "execution_count": 1,
   "metadata": {},
   "outputs": [
    {
     "name": "stdout",
     "output_type": "stream",
     "text": [
      "that was was a lot of nothing\n"
     ]
    }
   ],
   "source": [
    "## If statement\n",
    "a= 123\n",
    "b= 500\n",
    "\n",
    "if b > a:\n",
    "    print(\"well, that was was a lot of nothing\")\n",
    "\n"
   ]
  },
  {
   "cell_type": "code",
   "execution_count": 2,
   "metadata": {},
   "outputs": [
    {
     "name": "stdout",
     "output_type": "stream",
     "text": [
      "not unexpected\n"
     ]
    }
   ],
   "source": [
    "## if else\n",
    "a= 100\n",
    "b= 101\n",
    "if a>b:\n",
    "    print(nope)\n",
    "else:\n",
    "    print(\"not unexpected\")\n"
   ]
  },
  {
   "cell_type": "code",
   "execution_count": 8,
   "metadata": {},
   "outputs": [
    {
     "name": "stdout",
     "output_type": "stream",
     "text": [
      "it's above 10,\n",
      "but not above 21\n"
     ]
    }
   ],
   "source": [
    "##else\n",
    "x=20\n",
    "if x >10:\n",
    "        print(\"it's above 10,\")\n",
    "if x<20:\n",
    "        print(\"and also above 20\")\n",
    "else:\n",
    "        (print(\"but not above 21\"))"
   ]
  },
  {
   "cell_type": "code",
   "execution_count": null,
   "metadata": {},
   "outputs": [],
   "source": [
    "##nested loop\n",
    "make = [\"ford\", \"chevy\", \"buick\"]\n",
    "model = [\"mustang\", \"tahoe\", \"National\"]\n",
    "\n",
    "for x in make:\n",
    "    for y in model:\n",
    "        print(x,y)\n"
   ]
  },
  {
   "cell_type": "code",
   "execution_count": 10,
   "metadata": {},
   "outputs": [
    {
     "name": "stdout",
     "output_type": "stream",
     "text": [
      "mustang\n"
     ]
    }
   ],
   "source": [
    "## for loop with break\n",
    "cars=[\"mustang\", \"F150\", \"Edge\"]\n",
    "for x in cars:\n",
    "    if x ==\"F150\":\n",
    "        break\n",
    "    print(x)"
   ]
  },
  {
   "cell_type": "code",
   "execution_count": 11,
   "metadata": {},
   "outputs": [
    {
     "name": "stdout",
     "output_type": "stream",
     "text": [
      "T\n",
      "h\n",
      "e\n",
      " \n",
      "q\n",
      "u\n",
      "i\n",
      "c\n",
      "k\n",
      " \n",
      "B\n",
      "r\n",
      "o\n",
      "w\n",
      "n\n",
      " \n",
      "f\n",
      "o\n",
      "x\n"
     ]
    }
   ],
   "source": [
    "##loop through string\n",
    "\n",
    "for x in \"The quick Brown fox\":\n",
    "    print(x)"
   ]
  }
 ],
 "metadata": {
  "kernelspec": {
   "display_name": "Python 3.10.7 64-bit",
   "language": "python",
   "name": "python3"
  },
  "language_info": {
   "codemirror_mode": {
    "name": "ipython",
    "version": 3
   },
   "file_extension": ".py",
   "mimetype": "text/x-python",
   "name": "python",
   "nbconvert_exporter": "python",
   "pygments_lexer": "ipython3",
   "version": "3.10.7"
  },
  "orig_nbformat": 4,
  "vscode": {
   "interpreter": {
    "hash": "8340fd2e65cb8b4bad41cfb2de9605186c101b7520a44aec2753df4532925229"
   }
  }
 },
 "nbformat": 4,
 "nbformat_minor": 2
}
