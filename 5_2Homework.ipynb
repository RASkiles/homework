{
 "cells": [
  {
   "cell_type": "code",
   "execution_count": null,
   "metadata": {},
   "outputs": [],
   "source": []
  },
  {
   "cell_type": "markdown",
   "metadata": {},
   "source": [
    "## <span style='font-family:TimesNewRoman'>1. **Algorithm:** a process or set of rules to be followedd in calculations by a computer <br><br>2. *Python* is a high-level language because the syntax closely resembles english <br><br>3. *Python* is a formal language <br><br>4. Variable names may not start with a number or special character like $ <br><br>5. A ***semantic error*** is when code works without kicking an error, but returns an unexpected result <br><br>6. 5 *Python* reserved words: True, False, if, is, def <br><br>7. Link to a Python coding page https://www.w3schools.com/python/python_intro.asp <br>"
   ]
  },
  {
   "cell_type": "code",
   "execution_count": 8,
   "metadata": {},
   "outputs": [
    {
     "name": "stdout",
     "output_type": "stream",
     "text": [
      "19\n",
      " \n",
      "ing Data Analytics \n",
      "learning Data Analytics and Python is great!\n",
      "yes\n",
      "Hi my name is, Ryan I am 69 inches tall and am 49 years old today.\n",
      "49.0\n"
     ]
    }
   ],
   "source": [
    "## Ryan Skiles\n",
    "## Scrapple \n",
    "## Auto Restoration\n",
    "\n",
    "data1= int(123)\n",
    "data2= float(3.14)\n",
    "data3= str('the quick brown fox')\n",
    "data4= list[\"ford\", \"chevy\", \"dodge\", \"buick\"]\n",
    "data5= range(7)\n",
    "\n",
    "print (len(data3))\n",
    "print (data3[3]) ##fourth char is \"\" or the 3rd position\n",
    "\n",
    "savvy= \"learning Data Analytics and Python is Awesome!\"\n",
    "print (savvy[5:-22])\n",
    "print(savvy.replace('Awesome', 'great'))\n",
    "if \"Python\": print (\"yes\")\n",
    "\n",
    "name= \"Ryan\"\n",
    "length= \"69\" \n",
    "age= \"49\"\n",
    "minibio= str(\"Hi my name is, {} I am {} inches tall and am {} years old today.\")\n",
    "print (minibio.format(name, length, age))\n",
    "\n",
    "age =float(49)\n",
    "print (age)"
   ]
  }
 ],
 "metadata": {
  "kernelspec": {
   "display_name": "Python 3.10.7 64-bit",
   "language": "python",
   "name": "python3"
  },
  "language_info": {
   "codemirror_mode": {
    "name": "ipython",
    "version": 3
   },
   "file_extension": ".py",
   "mimetype": "text/x-python",
   "name": "python",
   "nbconvert_exporter": "python",
   "pygments_lexer": "ipython3",
   "version": "3.10.7"
  },
  "orig_nbformat": 4,
  "vscode": {
   "interpreter": {
    "hash": "8340fd2e65cb8b4bad41cfb2de9605186c101b7520a44aec2753df4532925229"
   }
  }
 },
 "nbformat": 4,
 "nbformat_minor": 2
}
