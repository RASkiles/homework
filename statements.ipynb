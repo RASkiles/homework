{
 "cells": [
  {
   "cell_type": "code",
   "execution_count": 2,
   "metadata": {},
   "outputs": [
    {
     "name": "stdout",
     "output_type": "stream",
     "text": [
      "b is greater\n"
     ]
    }
   ],
   "source": [
    "a= 45 \n",
    "b= 68 \n",
    "\n",
    "if b > a: \n",
    "        print(\"b is greater\")"
   ]
  },
  {
   "cell_type": "code",
   "execution_count": 1,
   "metadata": {},
   "outputs": [
    {
     "name": "stdout",
     "output_type": "stream",
     "text": [
      "a and b are equal\n"
     ]
    }
   ],
   "source": [
    "a= 55 \n",
    "b= 55\n",
    "if b > a: \n",
    "        print(\"b is grteater\")\n",
    "\n",
    "elif b==a: \n",
    "        print(\"a and b are equal\")\n",
    "##indents are important for order of operations\n",
    "##elif checks for additional condition"
   ]
  },
  {
   "cell_type": "code",
   "execution_count": 3,
   "metadata": {},
   "outputs": [
    {
     "name": "stdout",
     "output_type": "stream",
     "text": [
      "it's not greater\n"
     ]
    }
   ],
   "source": [
    "##else checks to do something else if result is not specified\n",
    "a= 200\n",
    "b= 55\n",
    "if b > a: \n",
    "    print(\"b is grteater\")\n",
    "else:\n",
    "    print (\"it's not greater\")"
   ]
  },
  {
   "cell_type": "code",
   "execution_count": 4,
   "metadata": {},
   "outputs": [
    {
     "name": "stdout",
     "output_type": "stream",
     "text": [
      "both conditions are ture\n"
     ]
    }
   ],
   "source": [
    "##using and - more than one c\n",
    "a=200\n",
    "b= 33\n",
    "c= 500\n",
    "if a> b and c > a:\n",
    "        print(\"both conditions are ture\")\n",
    "        "
   ]
  },
  {
   "cell_type": "code",
   "execution_count": 5,
   "metadata": {},
   "outputs": [
    {
     "name": "stdout",
     "output_type": "stream",
     "text": [
      "at least one of the conditions are ture\n"
     ]
    }
   ],
   "source": [
    "## OR\n",
    "##using and - more than one c\n",
    "a=200\n",
    "b= 33\n",
    "c= 500\n",
    "if a> b or c > a:\n",
    "        print(\"at least one of the conditions are ture\")\n"
   ]
  },
  {
   "cell_type": "code",
   "execution_count": 14,
   "metadata": {},
   "outputs": [
    {
     "name": "stdout",
     "output_type": "stream",
     "text": [
      "it's above 10,\n",
      "and aslo above 20\n"
     ]
    }
   ],
   "source": [
    "## nested if (statement (inside) of a statement)\n",
    "x=50\n",
    "if x >10:\n",
    "        print(\"it's above 10,\")\n",
    "if x>20:\n",
    "        print(\"and also above 20\")\n",
    "else:\n",
    "        (print(\"but not above 50\"))\n"
   ]
  },
  {
   "cell_type": "code",
   "execution_count": 13,
   "metadata": {},
   "outputs": [
    {
     "name": "stdout",
     "output_type": "stream",
     "text": [
      "1\n",
      "2\n",
      "3\n",
      "4\n",
      "5\n"
     ]
    }
   ],
   "source": [
    "## while loop (always end)\n",
    "i=1\n",
    "while i<6:\n",
    "        print(i)\n",
    "        i+=1 ##this is the end condition"
   ]
  },
  {
   "cell_type": "code",
   "execution_count": 15,
   "metadata": {},
   "outputs": [
    {
     "name": "stdout",
     "output_type": "stream",
     "text": [
      "apple\n",
      "banana \n",
      "grape\n"
     ]
    }
   ],
   "source": [
    "##for loops used for iterating over a sequesne\n",
    "\n",
    "## fruits = [\"apple\", \"banana \", \"grape\"]\n",
    "\n",
    "for x in fruits:\n",
    "    print (x) ##x is a placeholder, can be anything"
   ]
  },
  {
   "cell_type": "code",
   "execution_count": 16,
   "metadata": {},
   "outputs": [
    {
     "name": "stdout",
     "output_type": "stream",
     "text": [
      "1\n",
      "2\n",
      "3\n"
     ]
    }
   ],
   "source": [
    "##break statement\n",
    "\n",
    "i=1\n",
    "while i<6:\n",
    "    print(i) ##prints 3 due to order of operations\n",
    "    if i == 3:\n",
    "        break\n",
    "    i+=1"
   ]
  },
  {
   "cell_type": "code",
   "execution_count": 21,
   "metadata": {},
   "outputs": [
    {
     "name": "stdout",
     "output_type": "stream",
     "text": [
      "app\n"
     ]
    }
   ],
   "source": [
    "fruit =[\"app\", \"ban\", \"grape\"]\n",
    "\n",
    "for x in fruit:\n",
    "    if x ==\"ban\":\n",
    "        break\n",
    "    print(x)"
   ]
  },
  {
   "cell_type": "code",
   "execution_count": 23,
   "metadata": {},
   "outputs": [
    {
     "name": "stdout",
     "output_type": "stream",
     "text": [
      "r  a\n",
      "r  o\n",
      "r  p\n",
      "B  a\n",
      "B  o\n",
      "B  p\n",
      "j  a\n",
      "j  o\n",
      "j  p\n"
     ]
    }
   ],
   "source": [
    "adj = [\"r\", \"B\", \"j\"]\n",
    "fruit = [\"a\", \"o\", \"p\"]\n",
    "\n",
    "for x in adj:\n",
    "    for y in fruit:\n",
    "        print(x,y)\n",
    "\n",
    "        ## pulls each from both lists in sequential order list 1 + 1,2,3 list 2 + 1,2,3\n",
    "        ## nested loops"
   ]
  },
  {
   "cell_type": "code",
   "execution_count": 24,
   "metadata": {},
   "outputs": [
    {
     "name": "stdout",
     "output_type": "stream",
     "text": [
      "1\n",
      "2\n",
      "3\n",
      "4\n",
      "5\n",
      "i is no longer less than 6\n"
     ]
    }
   ],
   "source": [
    "i = 1 \n",
    "while i<6: \n",
    "    print(i)\n",
    "    i+=1\n",
    "else:\n",
    "    print(\"i is no longer less than 6\")"
   ]
  }
 ],
 "metadata": {
  "kernelspec": {
   "display_name": "Python 3.10.7 64-bit",
   "language": "python",
   "name": "python3"
  },
  "language_info": {
   "codemirror_mode": {
    "name": "ipython",
    "version": 3
   },
   "file_extension": ".py",
   "mimetype": "text/x-python",
   "name": "python",
   "nbconvert_exporter": "python",
   "pygments_lexer": "ipython3",
   "version": "3.10.7"
  },
  "orig_nbformat": 4,
  "vscode": {
   "interpreter": {
    "hash": "8340fd2e65cb8b4bad41cfb2de9605186c101b7520a44aec2753df4532925229"
   }
  }
 },
 "nbformat": 4,
 "nbformat_minor": 2
}
