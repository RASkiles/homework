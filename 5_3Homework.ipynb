{
 "cells": [
  {
   "cell_type": "code",
   "execution_count": null,
   "metadata": {},
   "outputs": [],
   "source": [
    "## Activity 2 List\n",
    "\n",
    "mix = [\"Steve\", 13, 3.14, [1,2,3,4,5], {\"This\" : \"That\"}, False]\n",
    "print(\"Mix ...\", mix)\n",
    "\n",
    "mix[0] = \"rodger\"\n",
    "print(\"Mix ...\", mix)\n",
    "\n",
    "mix.insert(3, \"yellow\")\n",
    "mix.append(3)\n",
    "print(\"Mix ...\", mix)\n",
    "\n",
    "listlength= len(mix)\n",
    "print(\"Length of Mix ...\", listlength)\n",
    "\n",
    "newmix = [\"Steve\", 13, 3.14, [1,2,3,4,5]]\n",
    "print (\"newmix = ...\", newmix)\n",
    "\n",
    "list3 = mix + newmix\n",
    "print(\"added lists...\", list3)\n",
    "\n",
    "simlist = [1,2,3,4,5]\n",
    "simlist.sort(reverse= True)\n",
    "print (simlist)\n",
    "\n",
    "si2 = simlist.copy()\n",
    "si3 = simlist + si2\n",
    "print(\"Final list...\", si3)"
   ]
  },
  {
   "cell_type": "code",
   "execution_count": null,
   "metadata": {},
   "outputs": [],
   "source": [
    "## Activity 3 Tuple\n",
    "\n",
    "tup1 = (30, \"Ryan\", 3.14, [1,2,3], \"Steve\")\n",
    "mtup = tup1*3 \n",
    "\n",
    "print(\"\\nmtup[12]...]\", mtup[12])\n",
    "\n",
    "##mtup.sort()\n",
    "##print (\"Sorted...\", mtup) ##Tupel cannot be sorted\n",
    "\n",
    "tup2 = (mtup[0:4])\n",
    "print(tup2)\n",
    "tup3= (\"Steve\", 13, 3.14, [1,2,3,4,5])\n",
    "(rodgers, lucky, pie, numbers) =tup3\n",
    "print(\"Steve=\", rodgers, \"lucky=\", lucky, \"pie=\", pie, \"numbers=\", numbers)\n",
    "\n",
    "tup4=(50, )\n",
    "print (tup4)\n",
    "\n",
    "tup5= tup2 + tup3\n",
    "print(tup5)\n"
   ]
  },
  {
   "cell_type": "code",
   "execution_count": null,
   "metadata": {},
   "outputs": [],
   "source": [
    "## Activity 4 Sets\n",
    "\n",
    "set1 = {1,2,3}\n",
    "set1.add(\"apple\")\n",
    "set1.add(\"bannana\")\n",
    "set1.add(\"orange\")\n",
    "\n",
    "print(set1)\n",
    "\n",
    "set1.add(\"Ford\")\n",
    "\n",
    "set2= {1,2,3,4,5}\n",
    "set3= set1.union(set2)\n",
    "\n",
    "set2.pop()\n",
    "\n",
    "print (set2)\n",
    "set1.clear()\n",
    "print(\"This is the cleared set1...\", set1)\n",
    "\n",
    "set2.discard(\"1\")\n",
    "print(set2)\n",
    "\n",
    "set3.remove(\"apple\")\n",
    "print(set3)"
   ]
  },
  {
   "cell_type": "code",
   "execution_count": 81,
   "metadata": {},
   "outputs": [
    {
     "name": "stdout",
     "output_type": "stream",
     "text": [
      "{'a': 'ryan', 'b': 10, 'c': 15, 'd': 20, 'e': 25, 'Favorite color': 'blue'}\n",
      "dict_keys(['a', 'b', 'c', 'd', 'e', 'Favorite color'])\n",
      "dict_values(['ryan', 10, 15, 20, 25, 'blue'])\n",
      "{'b': 10, 'c': 15, 'd': 20, 'e': 25, 'Favorite color': 'blue'}\n",
      "This is set 2 cleared... {}\n"
     ]
    }
   ],
   "source": [
    "## Activity 5 Dicts\n",
    "\n",
    "d1={\n",
    "        \"a\":5, \n",
    "        \"b\":10, \n",
    "        \"c\":15, \n",
    "        \"d\":20, \n",
    "        \"e\":25\n",
    "    }\n",
    "\n",
    "d1.update(a=\"ryan\")\n",
    "d1.update({\"Favorite color\":\"blue\"})\n",
    "print(d1)\n",
    "## since dicts are written in a key value pair, I'm unsure how to add a list, set, or tupel\n",
    "\n",
    "x=d1.keys()\n",
    "print(x)\n",
    "\n",
    "y=d1.values()\n",
    "print(y)\n",
    "\n",
    "d2=d1.copy()\n",
    "\n",
    "d2.pop(\"a\")\n",
    "\n",
    "print(d2)\n",
    "\n",
    "d2.clear()\n",
    "\n",
    "print(\"This is set 2 cleared...\", d2)"
   ]
  }
 ],
 "metadata": {
  "kernelspec": {
   "display_name": "Python 3.10.7 64-bit",
   "language": "python",
   "name": "python3"
  },
  "language_info": {
   "codemirror_mode": {
    "name": "ipython",
    "version": 3
   },
   "file_extension": ".py",
   "mimetype": "text/x-python",
   "name": "python",
   "nbconvert_exporter": "python",
   "pygments_lexer": "ipython3",
   "version": "3.10.7"
  },
  "orig_nbformat": 4,
  "vscode": {
   "interpreter": {
    "hash": "8340fd2e65cb8b4bad41cfb2de9605186c101b7520a44aec2753df4532925229"
   }
  }
 },
 "nbformat": 4,
 "nbformat_minor": 2
}
